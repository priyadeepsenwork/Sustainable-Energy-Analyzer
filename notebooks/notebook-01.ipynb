{
 "cells": [
  {
   "cell_type": "markdown",
   "id": "7587ec9f",
   "metadata": {},
   "source": [
    "# Configuration and Data-Fetching"
   ]
  },
  {
   "cell_type": "markdown",
   "id": "1c53bcc3",
   "metadata": {},
   "source": [
    "## 1. Imports"
   ]
  },
  {
   "cell_type": "code",
   "execution_count": null,
   "id": "c08100b8",
   "metadata": {},
   "outputs": [],
   "source": [
    "import pandas as pd\n",
    "import wbdata\n",
    "import requests\n",
    "import yaml\n",
    "import io, os\n",
    "import logging\n",
    "from pathlib import Path\n",
    "from datetime import datetime\n",
    "from requests.adapters import HTTPAdapter\n",
    "from urllib3.util.retry import Retry"
   ]
  },
  {
   "cell_type": "markdown",
   "id": "5b1f400a",
   "metadata": {},
   "source": [
    "## 2. Logging and Configuration "
   ]
  },
  {
   "cell_type": "code",
   "execution_count": 7,
   "id": "980b2fc4",
   "metadata": {},
   "outputs": [],
   "source": [
    "def setup_logging(log_path: Path):\n",
    "\t\"Initialize logging to both console and file\"\n",
    "\tlog_path.parent.mkdir(exist_ok=True)\n",
    "\tlogging.basicConfig(\n",
    "\t\tlevel=logging.INFO,\n",
    "\t\tformat='%(asctime)s - %(levelname)s -%(message)s',\n",
    "\t\thandlers=[\n",
    "\t\t\tlogging.FileHandler(log_path),\n",
    "\t\t\tlogging.StreamHandler()\n",
    "\t\t]\n",
    "\t)\n",
    "\n"
   ]
  },
  {
   "cell_type": "markdown",
   "id": "120246ef",
   "metadata": {},
   "source": [
    "### Load configuration from YAML"
   ]
  },
  {
   "cell_type": "code",
   "execution_count": 8,
   "id": "1cb25359",
   "metadata": {},
   "outputs": [],
   "source": [
    "CONFIG_PATH = Path('../config.yaml')\n",
    "try:\n",
    "\twith open(CONFIG_PATH, 'r') as f:\n",
    "\t\tconfig = yaml.safe_load(f)\n",
    "except FileNotFoundError:\n",
    "\tprint(f\"FATAL: Configuration file not found at {CONFIG_PATH}. Please create it.\")\n",
    "\texit()\n",
    "\n",
    "\n",
    "#\tSetup Logging using path from config\n",
    "setup_logging(Path(config['paths']['log_file'])) "
   ]
  },
  {
   "cell_type": "markdown",
   "id": "70096d31",
   "metadata": {},
   "source": [
    "## 2. Robust Data Fetching Function"
   ]
  },
  {
   "cell_type": "markdown",
   "id": "221c6e20",
   "metadata": {},
   "source": [
    "### 2.1 Retry Session"
   ]
  },
  {
   "cell_type": "code",
   "execution_count": 9,
   "id": "1314996b",
   "metadata": {},
   "outputs": [],
   "source": [
    "def create_retry_session(\n",
    "\tretries: int = 3,\n",
    "\tbackoff_factor: float = 0.3,\n",
    "\tstatus_forecelist: tuple = (500, 502, 503, 504)\n",
    ") -> requests.Session:\n",
    "\tsession = requests.Session()\n",
    "\tretry = Retry(\n",
    "\t\ttotal=retries,\n",
    "\t\tread=retries,\n",
    "\t\tconnect=retries,\n",
    "\t\tbackoff_factor=backoff_factor,\n",
    "\t\tstatus_forcelist=status_forecelist,\n",
    "\t)\n",
    "\tadapter = HTTPAdapter(max_retries=retry)\n",
    "\tsession.mount('http://', adapter)\n",
    "\tsession.mount('https://', adapter)\n",
    "\treturn session\n"
   ]
  },
  {
   "cell_type": "markdown",
   "id": "0c30b97d",
   "metadata": {},
   "source": [
    "### 2.2 Data fetching function\n",
    "Fetching and reshaping World Bank data with robust error handling."
   ]
  },
  {
   "cell_type": "code",
   "execution_count": 10,
   "id": "9528b74a",
   "metadata": {},
   "outputs": [],
   "source": [
    "\n",
    "def fetch_world_bank_data(cfg: dict) -> pd.DataFrame | None :\n",
    "\tlogging.info(\"Fetching data from World Bank API....\")\n",
    "\tindicators = cfg['world_bank_indicators']\n",
    "\tcountries = cfg['countries']\n",
    "\tstart, end = cfg['date_range']['start_year'], cfg['data_range']['end_year']\n",
    "\tdate_range = (datetime(start, 1, 1), datetime(end - 1, 12, 31))\n",
    "\n",
    "\ttry:\n",
    "\t\tdf = wbdata.get_dataframe(indicators, country=countries, data_date=date_range, convert_date=False)\n",
    "\t\tdf = df.reset_index()\n",
    "\t\tdf.rename(columns={'country': 'country_name', 'date':'year'}, inplace=True)\n",
    "\t\t#\tRename indicator IDs to their friendly names from config\n",
    "\t\tdf.renamee(columns={k: v for k, v in indicators.items()}, inplace=True)\n",
    "\t\tlogging.info(\"World Bank Data Fetched successfully\")\n",
    "\t\treturn df\n",
    "\texcept Exception as e:\n",
    "\t\tlogging.error(f\"An unexpected error occured while fetching World Bank Data : {e}\", exc_info=True)\n",
    "\t\treturn None\n",
    "\n"
   ]
  },
  {
   "cell_type": "code",
   "execution_count": null,
   "id": "935377cb",
   "metadata": {},
   "outputs": [],
   "source": []
  },
  {
   "cell_type": "code",
   "execution_count": null,
   "id": "f93995f8",
   "metadata": {},
   "outputs": [],
   "source": []
  },
  {
   "cell_type": "code",
   "execution_count": null,
   "id": "86e80ea2",
   "metadata": {},
   "outputs": [],
   "source": []
  },
  {
   "cell_type": "code",
   "execution_count": null,
   "id": "c187214e",
   "metadata": {},
   "outputs": [],
   "source": []
  },
  {
   "cell_type": "code",
   "execution_count": null,
   "id": "f6a05aea",
   "metadata": {},
   "outputs": [],
   "source": []
  },
  {
   "cell_type": "code",
   "execution_count": null,
   "id": "0b0f1352",
   "metadata": {},
   "outputs": [],
   "source": []
  },
  {
   "cell_type": "code",
   "execution_count": null,
   "id": "f3c5c537",
   "metadata": {},
   "outputs": [],
   "source": []
  },
  {
   "cell_type": "code",
   "execution_count": null,
   "id": "c2071082",
   "metadata": {},
   "outputs": [],
   "source": []
  },
  {
   "cell_type": "code",
   "execution_count": null,
   "id": "23ca3774",
   "metadata": {},
   "outputs": [],
   "source": []
  },
  {
   "cell_type": "code",
   "execution_count": null,
   "id": "68dfd584",
   "metadata": {},
   "outputs": [],
   "source": []
  },
  {
   "cell_type": "code",
   "execution_count": null,
   "id": "b5412260",
   "metadata": {},
   "outputs": [],
   "source": []
  },
  {
   "cell_type": "code",
   "execution_count": null,
   "id": "32495ab1",
   "metadata": {},
   "outputs": [],
   "source": []
  },
  {
   "cell_type": "code",
   "execution_count": null,
   "id": "d98635cc",
   "metadata": {},
   "outputs": [],
   "source": []
  },
  {
   "cell_type": "code",
   "execution_count": null,
   "id": "ad2a7b60",
   "metadata": {},
   "outputs": [],
   "source": []
  },
  {
   "cell_type": "code",
   "execution_count": null,
   "id": "9431a30f",
   "metadata": {},
   "outputs": [],
   "source": []
  },
  {
   "cell_type": "code",
   "execution_count": null,
   "id": "fce751db",
   "metadata": {},
   "outputs": [],
   "source": []
  },
  {
   "cell_type": "code",
   "execution_count": null,
   "id": "79d9bc55",
   "metadata": {},
   "outputs": [],
   "source": []
  },
  {
   "cell_type": "code",
   "execution_count": null,
   "id": "06ac48ce",
   "metadata": {},
   "outputs": [],
   "source": []
  },
  {
   "cell_type": "code",
   "execution_count": null,
   "id": "cf4bfb8b",
   "metadata": {},
   "outputs": [],
   "source": []
  },
  {
   "cell_type": "code",
   "execution_count": null,
   "id": "58a6f1dd",
   "metadata": {},
   "outputs": [],
   "source": []
  },
  {
   "cell_type": "code",
   "execution_count": null,
   "id": "ba9627d7",
   "metadata": {},
   "outputs": [],
   "source": []
  },
  {
   "cell_type": "code",
   "execution_count": null,
   "id": "06c4ce6a",
   "metadata": {},
   "outputs": [],
   "source": []
  },
  {
   "cell_type": "code",
   "execution_count": null,
   "id": "3e33da9e",
   "metadata": {},
   "outputs": [],
   "source": []
  },
  {
   "cell_type": "code",
   "execution_count": null,
   "id": "b39e81e9",
   "metadata": {},
   "outputs": [],
   "source": []
  }
 ],
 "metadata": {
  "kernelspec": {
   "display_name": ".venv",
   "language": "python",
   "name": "python3"
  },
  "language_info": {
   "codemirror_mode": {
    "name": "ipython",
    "version": 3
   },
   "file_extension": ".py",
   "mimetype": "text/x-python",
   "name": "python",
   "nbconvert_exporter": "python",
   "pygments_lexer": "ipython3",
   "version": "3.12.3"
  }
 },
 "nbformat": 4,
 "nbformat_minor": 5
}
